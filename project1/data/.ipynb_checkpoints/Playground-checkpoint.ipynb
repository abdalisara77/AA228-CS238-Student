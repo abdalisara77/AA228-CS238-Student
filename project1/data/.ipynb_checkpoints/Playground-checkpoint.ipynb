{
 "cells": [
  {
   "cell_type": "code",
   "execution_count": 1,
   "metadata": {},
   "outputs": [],
   "source": [
    "import networkx as nx\n",
    "import pandas as pd\n",
    "import matplotlib\n",
    "from collections import Counter\n",
    "import numpy as np\n",
    "import math\n",
    "import scipy \n",
    "import random\n",
    "import copy"
   ]
  },
  {
   "cell_type": "code",
   "execution_count": 2,
   "metadata": {},
   "outputs": [],
   "source": [
    "df = pd.read_csv(r'small.csv')\n",
    "\n"
   ]
  },
  {
   "cell_type": "code",
   "execution_count": 3,
   "metadata": {},
   "outputs": [
    {
     "data": {
      "text/html": [
       "<div>\n",
       "<style scoped>\n",
       "    .dataframe tbody tr th:only-of-type {\n",
       "        vertical-align: middle;\n",
       "    }\n",
       "\n",
       "    .dataframe tbody tr th {\n",
       "        vertical-align: top;\n",
       "    }\n",
       "\n",
       "    .dataframe thead th {\n",
       "        text-align: right;\n",
       "    }\n",
       "</style>\n",
       "<table border=\"1\" class=\"dataframe\">\n",
       "  <thead>\n",
       "    <tr style=\"text-align: right;\">\n",
       "      <th></th>\n",
       "      <th>age</th>\n",
       "      <th>portembarked</th>\n",
       "      <th>fare</th>\n",
       "      <th>numparentschildren</th>\n",
       "      <th>passengerclass</th>\n",
       "      <th>sex</th>\n",
       "      <th>numsiblings</th>\n",
       "      <th>survived</th>\n",
       "    </tr>\n",
       "  </thead>\n",
       "  <tbody>\n",
       "    <tr>\n",
       "      <th>0</th>\n",
       "      <td>1</td>\n",
       "      <td>1</td>\n",
       "      <td>1</td>\n",
       "      <td>1</td>\n",
       "      <td>1</td>\n",
       "      <td>1</td>\n",
       "      <td>1</td>\n",
       "      <td>1</td>\n",
       "    </tr>\n",
       "    <tr>\n",
       "      <th>1</th>\n",
       "      <td>2</td>\n",
       "      <td>2</td>\n",
       "      <td>1</td>\n",
       "      <td>1</td>\n",
       "      <td>2</td>\n",
       "      <td>2</td>\n",
       "      <td>1</td>\n",
       "      <td>2</td>\n",
       "    </tr>\n",
       "    <tr>\n",
       "      <th>2</th>\n",
       "      <td>1</td>\n",
       "      <td>1</td>\n",
       "      <td>1</td>\n",
       "      <td>1</td>\n",
       "      <td>1</td>\n",
       "      <td>2</td>\n",
       "      <td>1</td>\n",
       "      <td>2</td>\n",
       "    </tr>\n",
       "    <tr>\n",
       "      <th>3</th>\n",
       "      <td>2</td>\n",
       "      <td>1</td>\n",
       "      <td>1</td>\n",
       "      <td>1</td>\n",
       "      <td>2</td>\n",
       "      <td>2</td>\n",
       "      <td>1</td>\n",
       "      <td>2</td>\n",
       "    </tr>\n",
       "    <tr>\n",
       "      <th>4</th>\n",
       "      <td>2</td>\n",
       "      <td>1</td>\n",
       "      <td>1</td>\n",
       "      <td>1</td>\n",
       "      <td>1</td>\n",
       "      <td>1</td>\n",
       "      <td>1</td>\n",
       "      <td>1</td>\n",
       "    </tr>\n",
       "  </tbody>\n",
       "</table>\n",
       "</div>"
      ],
      "text/plain": [
       "   age  portembarked  fare  numparentschildren  passengerclass  sex  \\\n",
       "0    1             1     1                   1               1    1   \n",
       "1    2             2     1                   1               2    2   \n",
       "2    1             1     1                   1               1    2   \n",
       "3    2             1     1                   1               2    2   \n",
       "4    2             1     1                   1               1    1   \n",
       "\n",
       "   numsiblings  survived  \n",
       "0            1         1  \n",
       "1            1         2  \n",
       "2            1         2  \n",
       "3            1         2  \n",
       "4            1         1  "
      ]
     },
     "execution_count": 3,
     "metadata": {},
     "output_type": "execute_result"
    }
   ],
   "source": [
    "df.head()"
   ]
  },
  {
   "cell_type": "code",
   "execution_count": 4,
   "metadata": {},
   "outputs": [],
   "source": [
    "bestguess = nx.DiGraph()\n",
    "for label in df.columns:\n",
    "    bestguess.add_node(label)"
   ]
  },
  {
   "cell_type": "code",
   "execution_count": 5,
   "metadata": {},
   "outputs": [
    {
     "data": {
      "text/plain": [
       "{}"
      ]
     },
     "execution_count": 5,
     "metadata": {},
     "output_type": "execute_result"
    }
   ],
   "source": [
    "bestguess.graph\n"
   ]
  },
  {
   "cell_type": "code",
   "execution_count": 6,
   "metadata": {},
   "outputs": [
    {
     "data": {
      "text/plain": [
       "8"
      ]
     },
     "execution_count": 6,
     "metadata": {},
     "output_type": "execute_result"
    }
   ],
   "source": [
    "bestguess.number_of_nodes()"
   ]
  },
  {
   "cell_type": "code",
   "execution_count": 7,
   "metadata": {},
   "outputs": [
    {
     "data": {
      "image/png": "[encoded data removed]",
      "text/plain": [
       "<Figure size 432x288 with 1 Axes>"
      ]
     },
     "metadata": {},
     "output_type": "display_data"
    }
   ],
   "source": [
    "nx.draw(bestguess)"
   ]
  },
  {
   "cell_type": "code",
   "execution_count": 8,
   "metadata": {},
   "outputs": [
    {
     "name": "stdout",
     "output_type": "stream",
     "text": [
      "{'age': 3, 'portembarked': 3, 'fare': 3, 'numparentschildren': 3, 'passengerclass': 3, 'sex': 2, 'numsiblings': 3, 'survived': 2}\n"
     ]
    }
   ],
   "source": [
    "data = df.to_numpy()\n",
    "instances = {}\n",
    "for count, label in enumerate(df.columns):\n",
    "    instances[label] = max(data[:,count])\n",
    "    \n",
    "print(instances)"
   ]
  },
  {
   "cell_type": "code",
   "execution_count": 9,
   "metadata": {},
   "outputs": [],
   "source": [
    "\n",
    "def updatecounts(counts, bestguess,thenode):\n",
    "    x = [thenode]\n",
    "    \n",
    "    for node in x: \n",
    "        counts[node] = []\n",
    "        parents = [pred for pred in bestguess.predecessors(node)] \n",
    "        #print(parents)\n",
    "        pcount = 0\n",
    "        if len(parents) == 0: \n",
    "            counts[node].append(np.zeros(instances[node]))\n",
    "            for i in range(len(df)):\n",
    "                counts[node][0][df.iloc[i][node]-1] += 1\n",
    "            continue\n",
    "        pdic = {}\n",
    "        pcount = 0\n",
    "\n",
    "\n",
    "        for i in range(len(df)):\n",
    "            pinlist = []\n",
    "            for parent in parents:\n",
    "                pinlist.append(df.iloc[i][parent])\n",
    "            pinstantiation = tuple(pinlist)    \n",
    "            #print(pinstantiation)\n",
    "\n",
    "            if pinstantiation not in pdic:\n",
    "                pdic[pinstantiation] = pcount\n",
    "                pcount += 1\n",
    "                counts[node].append(np.zeros(instances[node]))\n",
    "                #print(counts[node])\n",
    "\n",
    "            #print(pdic[pinstantiation])\n",
    "            counts[node][pdic[pinstantiation]][df.iloc[i][node]-1] += 1\n",
    "\n",
    "    return(counts)\n",
    "\n",
    "\n"
   ]
  },
  {
   "cell_type": "code",
   "execution_count": 10,
   "metadata": {},
   "outputs": [],
   "source": [
    "def initcounts(bestguess):\n",
    "    counts = {}\n",
    "    for node in bestguess: \n",
    "        counts[node] = []\n",
    "        parents = [pred for pred in bestguess.predecessors(node)] \n",
    "        #print(parents)\n",
    "        pcount = 0\n",
    "        if len(parents) == 0: \n",
    "            counts[node].append(np.zeros(instances[node]))\n",
    "            for i in range(len(df)):\n",
    "                counts[node][0][df.iloc[i][node]-1] += 1\n",
    "            continue\n",
    "        pdic = {}\n",
    "        pcount = 0\n",
    "\n",
    "\n",
    "        for i in range(len(df)):\n",
    "            pinlist = []\n",
    "            for parent in parents:\n",
    "                pinlist.append(df.iloc[i][parent])\n",
    "            pinstantiation = tuple(pinlist)    \n",
    "            #print(pinstantiation)\n",
    "\n",
    "            if pinstantiation not in pdic:\n",
    "                pdic[pinstantiation] = pcount\n",
    "                pcount += 1\n",
    "                counts[node].append(np.zeros(instances[node]))\n",
    "                #print(counts[node])\n",
    "\n",
    "            #print(pdic[pinstantiation])\n",
    "            counts[node][pdic[pinstantiation]][df.iloc[i][node]-1] += 1\n",
    "\n",
    "    return(counts)\n",
    "\n"
   ]
  },
  {
   "cell_type": "code",
   "execution_count": 11,
   "metadata": {},
   "outputs": [
    {
     "ename": "NameError",
     "evalue": "name 'counts' is not defined",
     "output_type": "error",
     "traceback": [
      "\u001b[0;31m---------------------------------------------------------------------------\u001b[0m",
      "\u001b[0;31mNameError\u001b[0m                                 Traceback (most recent call last)",
      "\u001b[0;32m<ipython-input-11-3ff28dba59f3>\u001b[0m in \u001b[0;36m<module>\u001b[0;34m\u001b[0m\n\u001b[0;32m----> 1\u001b[0;31m \u001b[0mprint\u001b[0m\u001b[0;34m(\u001b[0m\u001b[0mcounts\u001b[0m\u001b[0;34m)\u001b[0m\u001b[0;34m\u001b[0m\u001b[0;34m\u001b[0m\u001b[0m\n\u001b[0m",
      "\u001b[0;31mNameError\u001b[0m: name 'counts' is not defined"
     ]
    }
   ],
   "source": [
    "print(counts)"
   ]
  },
  {
   "cell_type": "code",
   "execution_count": 12,
   "metadata": {},
   "outputs": [],
   "source": [
    "def bayesian_score(bestguess,counts): \n",
    "    score = 0 \n",
    "    for node in bestguess: \n",
    "        npinstance = len(counts[node])\n",
    "        for row in range(npinstance): \n",
    "            score += (scipy.special.loggamma(instances[node]) - (scipy.special.loggamma(instances[node] + sum(counts[node][row])))) \n",
    "            score += sum([scipy.special.loggamma((1+counts[node][row][r]) - scipy.special.loggamma(1)) for r in range(instances[node])])\n",
    "    return(score)\n"
   ]
  },
  {
   "cell_type": "code",
   "execution_count": 13,
   "metadata": {},
   "outputs": [],
   "source": [
    "def rand_neighbor(G):\n",
    "    newgraph = copy.deepcopy(G)\n",
    "    samplenodes = random.sample(list(G.nodes()), 2)\n",
    "    \n",
    "    if G.has_edge(samplenodes[0],samplenodes[1]): \n",
    "        newgraph.remove_edge(samplenodes[0],samplenodes[1])\n",
    "    else: \n",
    "        newgraph.add_edge(samplenodes[0],samplenodes[1])\n",
    "        \n",
    "    return((newgraph, samplenodes[1]))\n",
    "        "
   ]
  },
  {
   "cell_type": "code",
   "execution_count": 14,
   "metadata": {},
   "outputs": [
    {
     "data": {
      "text/plain": [
       "['age',\n",
       " 'portembarked',\n",
       " 'fare',\n",
       " 'numparentschildren',\n",
       " 'passengerclass',\n",
       " 'sex',\n",
       " 'numsiblings',\n",
       " 'survived']"
      ]
     },
     "execution_count": 14,
     "metadata": {},
     "output_type": "execute_result"
    }
   ],
   "source": [
    "list(bestguess.nodes)"
   ]
  },
  {
   "cell_type": "code",
   "execution_count": 18,
   "metadata": {},
   "outputs": [
    {
     "data": {
      "image/png": "[encoded data removed]",
      "text/plain": [
       "<Figure size 432x288 with 1 Axes>"
      ]
     },
     "metadata": {},
     "output_type": "display_data"
    }
   ],
   "source": [
    "bestguess = nx.DiGraph()\n",
    "for label in df.columns:\n",
    "    bestguess.add_node(label)\n",
    "#bestguess.add_edge(\"alcohol\", \"ph\")\n",
    "#bestguess.add_edge(\"citricacid\", \"ph\")\n",
    "#bestguess.add_edge(\"fixedacidity\", \"ph\")\n",
    "bestguess.add_edge(\"sex\", \"survived\")\n",
    "bestguess.add_edge(\"passengerclass\",\"fare\")\n",
    "###bestguess.add_edge(\"passengerclass\",\"portembarked\")\n",
    "###bestguess.add_edge(\"passengerclass\",\"numsiblings\")\n",
    "#bestguess.add_edge(\"passengerclass\",\"age\")\n",
    "#bestguess.add_edge(\"passengerclass\",\"numparentschildren\")###\n",
    "\n",
    "#for node in bestguess.nodes(): \n",
    "    #if node != \"sex\": \n",
    "        #bestguess.add_edge(node, \"sex\")\n",
    "        \n",
    "nx.draw(bestguess,with_labels = True)"
   ]
  },
  {
   "cell_type": "code",
   "execution_count": 19,
   "metadata": {},
   "outputs": [],
   "source": [
    "k_max = 200\n",
    "def localgraphsearch(G):\n",
    "    counts = initcounts(G)\n",
    "    currscore = bayesian_score(G, counts) \n",
    "    for i in range(k_max): \n",
    "        print(i)\n",
    "        tup = rand_neighbor(G)\n",
    "        Gprime = tup[0]\n",
    "        augnode = tup[1]\n",
    "        #nx.draw(Gprime)\n",
    "        if not(nx.is_directed_acyclic_graph(Gprime)):\n",
    "            continue\n",
    "        #print(\"passed the point of no return\")\n",
    "        countsprime = copy.deepcopy(counts)\n",
    "        updatecounts(countsprime,Gprime,augnode)\n",
    "        nextscore = bayesian_score(Gprime,countsprime)\n",
    "        \n",
    "        if nextscore > currscore: \n",
    "            #print(\"I reign\")\n",
    "            print(nextscore)\n",
    "            currscore = nextscore \n",
    "            counts = copy.deepcopy(countsprime)\n",
    "            G = copy.deepcopy(Gprime)\n",
    "    \n",
    "    return G"
   ]
  },
  {
   "cell_type": "code",
   "execution_count": null,
   "metadata": {},
   "outputs": [
    {
     "name": "stdout",
     "output_type": "stream",
     "text": [
      "0\n",
      "-3975.6462128528638\n",
      "1\n",
      "2\n",
      "3\n",
      "4\n",
      "-3973.563434506603\n",
      "5\n",
      "-3972.678438112358\n",
      "6\n",
      "7\n",
      "8\n",
      "9\n",
      "10\n",
      "-3958.2138187420715\n",
      "11\n",
      "12\n",
      "13\n",
      "-3944.320422312241\n",
      "14\n",
      "15\n",
      "-3910.4335311577943\n",
      "16\n",
      "17\n",
      "18\n",
      "-3906.6427477294237\n",
      "19\n",
      "20\n",
      "21\n",
      "22\n",
      "23\n",
      "24\n",
      "25\n",
      "26\n",
      "27\n",
      "28\n",
      "29\n",
      "-3904.6618296905326\n",
      "30\n",
      "31\n",
      "32\n",
      "33\n",
      "34\n",
      "35\n",
      "36\n",
      "-3851.2204042408102\n",
      "37\n",
      "38\n",
      "39\n",
      "40\n",
      "-3841.3446880860392\n",
      "41\n",
      "42\n",
      "43\n",
      "44\n",
      "45\n",
      "-3821.150010267056\n",
      "46\n",
      "47\n",
      "48\n",
      "49\n",
      "50\n",
      "51\n",
      "52\n",
      "53\n",
      "54\n",
      "55\n",
      "56\n",
      "57\n",
      "58\n",
      "-3815.873457642472\n",
      "59\n",
      "60\n",
      "61\n",
      "62\n",
      "63\n",
      "64\n",
      "65\n",
      "66\n",
      "67\n",
      "68\n",
      "69\n",
      "70\n",
      "71\n",
      "72\n",
      "73\n",
      "74\n",
      "75\n",
      "76\n",
      "77\n",
      "78\n",
      "79\n",
      "80\n",
      "81\n",
      "82\n",
      "83\n",
      "84\n",
      "85\n",
      "86\n",
      "87\n",
      "88\n",
      "89\n",
      "90\n",
      "91\n",
      "92\n",
      "93\n",
      "94\n",
      "95\n",
      "96\n",
      "97\n",
      "98\n",
      "99\n",
      "100\n",
      "101\n",
      "102\n",
      "103\n",
      "104\n"
     ]
    }
   ],
   "source": [
    "answer = localgraphsearch(bestguess)"
   ]
  },
  {
   "cell_type": "code",
   "execution_count": 85,
   "metadata": {},
   "outputs": [
    {
     "data": {
      "image/png": "[encoded data removed]",
      "text/plain": [
       "<Figure size 432x288 with 1 Axes>"
      ]
     },
     "metadata": {},
     "output_type": "display_data"
    }
   ],
   "source": [
    "nx.draw(answer,with_labels = True)"
   ]
  },
  {
   "cell_type": "code",
   "execution_count": 63,
   "metadata": {},
   "outputs": [
    {
     "data": {
      "text/plain": [
       "-43256.494213249534"
      ]
     },
     "execution_count": 63,
     "metadata": {},
     "output_type": "execute_result"
    }
   ],
   "source": [
    "bayesian_score(answer, initcounts(answer))"
   ]
  },
  {
   "cell_type": "code",
   "execution_count": 20,
   "metadata": {},
   "outputs": [],
   "source": [
    "bestguesses = [nx.DiGraph() for i in range(10)]\n",
    "for i in range(10):\n",
    "    for label in df.columns:\n",
    "        bestguesses[i].add_node(label)\n",
    "\n",
    "answers = []\n",
    "for i in range(10):\n",
    "    answers.append(localgraphsearch(bestguesses[i]))\n"
   ]
  },
  {
   "cell_type": "code",
   "execution_count": 22,
   "metadata": {},
   "outputs": [
    {
     "name": "stdout",
     "output_type": "stream",
     "text": [
      "-3826.724327847809\n",
      "-3805.9887849263014\n",
      "-3805.108136594954\n",
      "-3820.0763982806648\n",
      "-3819.676103149663\n",
      "-3817.741763129874\n",
      "-3839.949761577534\n",
      "-3831.6778344563936\n",
      "-3822.5341329738394\n",
      "-3824.582037571583\n"
     ]
    }
   ],
   "source": [
    "for g in answers: \n",
    "    counts = initcounts(g)\n",
    "    print(bayesian_score(g, counts))"
   ]
  },
  {
   "cell_type": "code",
   "execution_count": null,
   "metadata": {},
   "outputs": [],
   "source": []
  }
 ],
 "metadata": {
  "kernelspec": {
   "display_name": "Python 3",
   "language": "python",
   "name": "python3"
  },
  "language_info": {
   "codemirror_mode": {
    "name": "ipython",
    "version": 3
   },
   "file_extension": ".py",
   "mimetype": "text/x-python",
   "name": "python",
   "nbconvert_exporter": "python",
   "pygments_lexer": "ipython3",
   "version": "3.8.3"
  }
 },
 "nbformat": 4,
 "nbformat_minor": 4
}
